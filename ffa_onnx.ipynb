{
  "nbformat": 4,
  "nbformat_minor": 0,
  "metadata": {
    "colab": {
      "name": "ffa_onnx.ipynb",
      "provenance": [],
      "collapsed_sections": [],
      "authorship_tag": "ABX9TyNCIwxdwhr5YLyyhoNTbTsK",
      "include_colab_link": true
    },
    "kernelspec": {
      "name": "python3",
      "display_name": "Python 3"
    },
    "language_info": {
      "name": "python"
    }
  },
  "cells": [
    {
      "cell_type": "markdown",
      "metadata": {
        "id": "view-in-github",
        "colab_type": "text"
      },
      "source": [
        "<a href=\"https://colab.research.google.com/github/abubakrsiddq/BinaryMap/blob/master/ffa_onnx.ipynb\" target=\"_parent\"><img src=\"https://colab.research.google.com/assets/colab-badge.svg\" alt=\"Open In Colab\"/></a>"
      ]
    },
    {
      "cell_type": "code",
      "metadata": {
        "id": "t5CRcXHgdMng",
        "colab": {
          "base_uri": "https://localhost:8080/"
        },
        "outputId": "9b0d0ad8-b134-4b8f-e405-a0ed8568bcb4"
      },
      "source": [
        "!git clone https://github.com/zhilin007/FFA-Net.git"
      ],
      "execution_count": 1,
      "outputs": [
        {
          "output_type": "stream",
          "text": [
            "Cloning into 'FFA-Net'...\n",
            "remote: Enumerating objects: 182, done.\u001b[K\n",
            "remote: Total 182 (delta 0), reused 0 (delta 0), pack-reused 182\u001b[K\n",
            "Receiving objects: 100% (182/182), 19.04 MiB | 33.33 MiB/s, done.\n",
            "Resolving deltas: 100% (80/80), done.\n"
          ],
          "name": "stdout"
        }
      ]
    },
    {
      "cell_type": "code",
      "metadata": {
        "colab": {
          "base_uri": "https://localhost:8080/"
        },
        "id": "lMHTLyv-eEvn",
        "outputId": "d7b012f6-2e23-449c-8614-dcae65027371"
      },
      "source": [
        "from google.colab import drive\n",
        "drive.mount('/content/drive')"
      ],
      "execution_count": 12,
      "outputs": [
        {
          "output_type": "stream",
          "text": [
            "Mounted at /content/drive\n"
          ],
          "name": "stdout"
        }
      ]
    },
    {
      "cell_type": "code",
      "metadata": {
        "id": "30ULRXErbE4y"
      },
      "source": [
        "import io\n",
        "import numpy as np\n",
        "\n",
        "from torch import nn\n",
        "import torch.utils.model_zoo as model_zoo\n",
        "import torch.onnx\n",
        "from models import *\n",
        "import PIL.Image as pil\n",
        "import torch.nn as nn\n",
        "import torchvision.transforms as tfs \n",
        "import torchvision.utils as vutils\n",
        "import matplotlib.pyplot as plt\n",
        "from torchvision.utils import make_grid"
      ],
      "execution_count": 50,
      "outputs": []
    },
    {
      "cell_type": "code",
      "metadata": {
        "id": "8AxWHCE8cgpg"
      },
      "source": [
        "torch_model =FFA(gps=3,blocks=19)"
      ],
      "execution_count": 11,
      "outputs": []
    },
    {
      "cell_type": "code",
      "metadata": {
        "id": "pTk9JVw2eUNu"
      },
      "source": [
        "pretrain=torch.load('/content/drive/MyDrive/ots_train_ffa_3_19.pk',map_location=torch.device('cpu'))\n"
      ],
      "execution_count": 19,
      "outputs": []
    },
    {
      "cell_type": "code",
      "metadata": {
        "colab": {
          "base_uri": "https://localhost:8080/"
        },
        "id": "k0jm77K8coi4",
        "outputId": "2a684ea5-8dc8-4b5e-8b40-8b3b31509fa2"
      },
      "source": [
        "torch_model.load_state_dict(state_dict=weights)"
      ],
      "execution_count": 46,
      "outputs": [
        {
          "output_type": "execute_result",
          "data": {
            "text/plain": [
              "<All keys matched successfully>"
            ]
          },
          "metadata": {
            "tags": []
          },
          "execution_count": 46
        }
      ]
    },
    {
      "cell_type": "code",
      "metadata": {
        "colab": {
          "base_uri": "https://localhost:8080/"
        },
        "id": "j1-iOrPkcqHM",
        "outputId": "ab2c7aed-6576-4de8-b6fc-35b8ec8cf0ed"
      },
      "source": [
        "pretrain['model'].keys()"
      ],
      "execution_count": 24,
      "outputs": [
        {
          "output_type": "execute_result",
          "data": {
            "text/plain": [
              "odict_keys(['module.g1.gp.0.conv1.weight', 'module.g1.gp.0.conv1.bias', 'module.g1.gp.0.conv2.weight', 'module.g1.gp.0.conv2.bias', 'module.g1.gp.0.calayer.ca.0.weight', 'module.g1.gp.0.calayer.ca.0.bias', 'module.g1.gp.0.calayer.ca.2.weight', 'module.g1.gp.0.calayer.ca.2.bias', 'module.g1.gp.0.palayer.pa.0.weight', 'module.g1.gp.0.palayer.pa.0.bias', 'module.g1.gp.0.palayer.pa.2.weight', 'module.g1.gp.0.palayer.pa.2.bias', 'module.g1.gp.1.conv1.weight', 'module.g1.gp.1.conv1.bias', 'module.g1.gp.1.conv2.weight', 'module.g1.gp.1.conv2.bias', 'module.g1.gp.1.calayer.ca.0.weight', 'module.g1.gp.1.calayer.ca.0.bias', 'module.g1.gp.1.calayer.ca.2.weight', 'module.g1.gp.1.calayer.ca.2.bias', 'module.g1.gp.1.palayer.pa.0.weight', 'module.g1.gp.1.palayer.pa.0.bias', 'module.g1.gp.1.palayer.pa.2.weight', 'module.g1.gp.1.palayer.pa.2.bias', 'module.g1.gp.2.conv1.weight', 'module.g1.gp.2.conv1.bias', 'module.g1.gp.2.conv2.weight', 'module.g1.gp.2.conv2.bias', 'module.g1.gp.2.calayer.ca.0.weight', 'module.g1.gp.2.calayer.ca.0.bias', 'module.g1.gp.2.calayer.ca.2.weight', 'module.g1.gp.2.calayer.ca.2.bias', 'module.g1.gp.2.palayer.pa.0.weight', 'module.g1.gp.2.palayer.pa.0.bias', 'module.g1.gp.2.palayer.pa.2.weight', 'module.g1.gp.2.palayer.pa.2.bias', 'module.g1.gp.3.conv1.weight', 'module.g1.gp.3.conv1.bias', 'module.g1.gp.3.conv2.weight', 'module.g1.gp.3.conv2.bias', 'module.g1.gp.3.calayer.ca.0.weight', 'module.g1.gp.3.calayer.ca.0.bias', 'module.g1.gp.3.calayer.ca.2.weight', 'module.g1.gp.3.calayer.ca.2.bias', 'module.g1.gp.3.palayer.pa.0.weight', 'module.g1.gp.3.palayer.pa.0.bias', 'module.g1.gp.3.palayer.pa.2.weight', 'module.g1.gp.3.palayer.pa.2.bias', 'module.g1.gp.4.conv1.weight', 'module.g1.gp.4.conv1.bias', 'module.g1.gp.4.conv2.weight', 'module.g1.gp.4.conv2.bias', 'module.g1.gp.4.calayer.ca.0.weight', 'module.g1.gp.4.calayer.ca.0.bias', 'module.g1.gp.4.calayer.ca.2.weight', 'module.g1.gp.4.calayer.ca.2.bias', 'module.g1.gp.4.palayer.pa.0.weight', 'module.g1.gp.4.palayer.pa.0.bias', 'module.g1.gp.4.palayer.pa.2.weight', 'module.g1.gp.4.palayer.pa.2.bias', 'module.g1.gp.5.conv1.weight', 'module.g1.gp.5.conv1.bias', 'module.g1.gp.5.conv2.weight', 'module.g1.gp.5.conv2.bias', 'module.g1.gp.5.calayer.ca.0.weight', 'module.g1.gp.5.calayer.ca.0.bias', 'module.g1.gp.5.calayer.ca.2.weight', 'module.g1.gp.5.calayer.ca.2.bias', 'module.g1.gp.5.palayer.pa.0.weight', 'module.g1.gp.5.palayer.pa.0.bias', 'module.g1.gp.5.palayer.pa.2.weight', 'module.g1.gp.5.palayer.pa.2.bias', 'module.g1.gp.6.conv1.weight', 'module.g1.gp.6.conv1.bias', 'module.g1.gp.6.conv2.weight', 'module.g1.gp.6.conv2.bias', 'module.g1.gp.6.calayer.ca.0.weight', 'module.g1.gp.6.calayer.ca.0.bias', 'module.g1.gp.6.calayer.ca.2.weight', 'module.g1.gp.6.calayer.ca.2.bias', 'module.g1.gp.6.palayer.pa.0.weight', 'module.g1.gp.6.palayer.pa.0.bias', 'module.g1.gp.6.palayer.pa.2.weight', 'module.g1.gp.6.palayer.pa.2.bias', 'module.g1.gp.7.conv1.weight', 'module.g1.gp.7.conv1.bias', 'module.g1.gp.7.conv2.weight', 'module.g1.gp.7.conv2.bias', 'module.g1.gp.7.calayer.ca.0.weight', 'module.g1.gp.7.calayer.ca.0.bias', 'module.g1.gp.7.calayer.ca.2.weight', 'module.g1.gp.7.calayer.ca.2.bias', 'module.g1.gp.7.palayer.pa.0.weight', 'module.g1.gp.7.palayer.pa.0.bias', 'module.g1.gp.7.palayer.pa.2.weight', 'module.g1.gp.7.palayer.pa.2.bias', 'module.g1.gp.8.conv1.weight', 'module.g1.gp.8.conv1.bias', 'module.g1.gp.8.conv2.weight', 'module.g1.gp.8.conv2.bias', 'module.g1.gp.8.calayer.ca.0.weight', 'module.g1.gp.8.calayer.ca.0.bias', 'module.g1.gp.8.calayer.ca.2.weight', 'module.g1.gp.8.calayer.ca.2.bias', 'module.g1.gp.8.palayer.pa.0.weight', 'module.g1.gp.8.palayer.pa.0.bias', 'module.g1.gp.8.palayer.pa.2.weight', 'module.g1.gp.8.palayer.pa.2.bias', 'module.g1.gp.9.conv1.weight', 'module.g1.gp.9.conv1.bias', 'module.g1.gp.9.conv2.weight', 'module.g1.gp.9.conv2.bias', 'module.g1.gp.9.calayer.ca.0.weight', 'module.g1.gp.9.calayer.ca.0.bias', 'module.g1.gp.9.calayer.ca.2.weight', 'module.g1.gp.9.calayer.ca.2.bias', 'module.g1.gp.9.palayer.pa.0.weight', 'module.g1.gp.9.palayer.pa.0.bias', 'module.g1.gp.9.palayer.pa.2.weight', 'module.g1.gp.9.palayer.pa.2.bias', 'module.g1.gp.10.conv1.weight', 'module.g1.gp.10.conv1.bias', 'module.g1.gp.10.conv2.weight', 'module.g1.gp.10.conv2.bias', 'module.g1.gp.10.calayer.ca.0.weight', 'module.g1.gp.10.calayer.ca.0.bias', 'module.g1.gp.10.calayer.ca.2.weight', 'module.g1.gp.10.calayer.ca.2.bias', 'module.g1.gp.10.palayer.pa.0.weight', 'module.g1.gp.10.palayer.pa.0.bias', 'module.g1.gp.10.palayer.pa.2.weight', 'module.g1.gp.10.palayer.pa.2.bias', 'module.g1.gp.11.conv1.weight', 'module.g1.gp.11.conv1.bias', 'module.g1.gp.11.conv2.weight', 'module.g1.gp.11.conv2.bias', 'module.g1.gp.11.calayer.ca.0.weight', 'module.g1.gp.11.calayer.ca.0.bias', 'module.g1.gp.11.calayer.ca.2.weight', 'module.g1.gp.11.calayer.ca.2.bias', 'module.g1.gp.11.palayer.pa.0.weight', 'module.g1.gp.11.palayer.pa.0.bias', 'module.g1.gp.11.palayer.pa.2.weight', 'module.g1.gp.11.palayer.pa.2.bias', 'module.g1.gp.12.conv1.weight', 'module.g1.gp.12.conv1.bias', 'module.g1.gp.12.conv2.weight', 'module.g1.gp.12.conv2.bias', 'module.g1.gp.12.calayer.ca.0.weight', 'module.g1.gp.12.calayer.ca.0.bias', 'module.g1.gp.12.calayer.ca.2.weight', 'module.g1.gp.12.calayer.ca.2.bias', 'module.g1.gp.12.palayer.pa.0.weight', 'module.g1.gp.12.palayer.pa.0.bias', 'module.g1.gp.12.palayer.pa.2.weight', 'module.g1.gp.12.palayer.pa.2.bias', 'module.g1.gp.13.conv1.weight', 'module.g1.gp.13.conv1.bias', 'module.g1.gp.13.conv2.weight', 'module.g1.gp.13.conv2.bias', 'module.g1.gp.13.calayer.ca.0.weight', 'module.g1.gp.13.calayer.ca.0.bias', 'module.g1.gp.13.calayer.ca.2.weight', 'module.g1.gp.13.calayer.ca.2.bias', 'module.g1.gp.13.palayer.pa.0.weight', 'module.g1.gp.13.palayer.pa.0.bias', 'module.g1.gp.13.palayer.pa.2.weight', 'module.g1.gp.13.palayer.pa.2.bias', 'module.g1.gp.14.conv1.weight', 'module.g1.gp.14.conv1.bias', 'module.g1.gp.14.conv2.weight', 'module.g1.gp.14.conv2.bias', 'module.g1.gp.14.calayer.ca.0.weight', 'module.g1.gp.14.calayer.ca.0.bias', 'module.g1.gp.14.calayer.ca.2.weight', 'module.g1.gp.14.calayer.ca.2.bias', 'module.g1.gp.14.palayer.pa.0.weight', 'module.g1.gp.14.palayer.pa.0.bias', 'module.g1.gp.14.palayer.pa.2.weight', 'module.g1.gp.14.palayer.pa.2.bias', 'module.g1.gp.15.conv1.weight', 'module.g1.gp.15.conv1.bias', 'module.g1.gp.15.conv2.weight', 'module.g1.gp.15.conv2.bias', 'module.g1.gp.15.calayer.ca.0.weight', 'module.g1.gp.15.calayer.ca.0.bias', 'module.g1.gp.15.calayer.ca.2.weight', 'module.g1.gp.15.calayer.ca.2.bias', 'module.g1.gp.15.palayer.pa.0.weight', 'module.g1.gp.15.palayer.pa.0.bias', 'module.g1.gp.15.palayer.pa.2.weight', 'module.g1.gp.15.palayer.pa.2.bias', 'module.g1.gp.16.conv1.weight', 'module.g1.gp.16.conv1.bias', 'module.g1.gp.16.conv2.weight', 'module.g1.gp.16.conv2.bias', 'module.g1.gp.16.calayer.ca.0.weight', 'module.g1.gp.16.calayer.ca.0.bias', 'module.g1.gp.16.calayer.ca.2.weight', 'module.g1.gp.16.calayer.ca.2.bias', 'module.g1.gp.16.palayer.pa.0.weight', 'module.g1.gp.16.palayer.pa.0.bias', 'module.g1.gp.16.palayer.pa.2.weight', 'module.g1.gp.16.palayer.pa.2.bias', 'module.g1.gp.17.conv1.weight', 'module.g1.gp.17.conv1.bias', 'module.g1.gp.17.conv2.weight', 'module.g1.gp.17.conv2.bias', 'module.g1.gp.17.calayer.ca.0.weight', 'module.g1.gp.17.calayer.ca.0.bias', 'module.g1.gp.17.calayer.ca.2.weight', 'module.g1.gp.17.calayer.ca.2.bias', 'module.g1.gp.17.palayer.pa.0.weight', 'module.g1.gp.17.palayer.pa.0.bias', 'module.g1.gp.17.palayer.pa.2.weight', 'module.g1.gp.17.palayer.pa.2.bias', 'module.g1.gp.18.conv1.weight', 'module.g1.gp.18.conv1.bias', 'module.g1.gp.18.conv2.weight', 'module.g1.gp.18.conv2.bias', 'module.g1.gp.18.calayer.ca.0.weight', 'module.g1.gp.18.calayer.ca.0.bias', 'module.g1.gp.18.calayer.ca.2.weight', 'module.g1.gp.18.calayer.ca.2.bias', 'module.g1.gp.18.palayer.pa.0.weight', 'module.g1.gp.18.palayer.pa.0.bias', 'module.g1.gp.18.palayer.pa.2.weight', 'module.g1.gp.18.palayer.pa.2.bias', 'module.g1.gp.19.weight', 'module.g1.gp.19.bias', 'module.g2.gp.0.conv1.weight', 'module.g2.gp.0.conv1.bias', 'module.g2.gp.0.conv2.weight', 'module.g2.gp.0.conv2.bias', 'module.g2.gp.0.calayer.ca.0.weight', 'module.g2.gp.0.calayer.ca.0.bias', 'module.g2.gp.0.calayer.ca.2.weight', 'module.g2.gp.0.calayer.ca.2.bias', 'module.g2.gp.0.palayer.pa.0.weight', 'module.g2.gp.0.palayer.pa.0.bias', 'module.g2.gp.0.palayer.pa.2.weight', 'module.g2.gp.0.palayer.pa.2.bias', 'module.g2.gp.1.conv1.weight', 'module.g2.gp.1.conv1.bias', 'module.g2.gp.1.conv2.weight', 'module.g2.gp.1.conv2.bias', 'module.g2.gp.1.calayer.ca.0.weight', 'module.g2.gp.1.calayer.ca.0.bias', 'module.g2.gp.1.calayer.ca.2.weight', 'module.g2.gp.1.calayer.ca.2.bias', 'module.g2.gp.1.palayer.pa.0.weight', 'module.g2.gp.1.palayer.pa.0.bias', 'module.g2.gp.1.palayer.pa.2.weight', 'module.g2.gp.1.palayer.pa.2.bias', 'module.g2.gp.2.conv1.weight', 'module.g2.gp.2.conv1.bias', 'module.g2.gp.2.conv2.weight', 'module.g2.gp.2.conv2.bias', 'module.g2.gp.2.calayer.ca.0.weight', 'module.g2.gp.2.calayer.ca.0.bias', 'module.g2.gp.2.calayer.ca.2.weight', 'module.g2.gp.2.calayer.ca.2.bias', 'module.g2.gp.2.palayer.pa.0.weight', 'module.g2.gp.2.palayer.pa.0.bias', 'module.g2.gp.2.palayer.pa.2.weight', 'module.g2.gp.2.palayer.pa.2.bias', 'module.g2.gp.3.conv1.weight', 'module.g2.gp.3.conv1.bias', 'module.g2.gp.3.conv2.weight', 'module.g2.gp.3.conv2.bias', 'module.g2.gp.3.calayer.ca.0.weight', 'module.g2.gp.3.calayer.ca.0.bias', 'module.g2.gp.3.calayer.ca.2.weight', 'module.g2.gp.3.calayer.ca.2.bias', 'module.g2.gp.3.palayer.pa.0.weight', 'module.g2.gp.3.palayer.pa.0.bias', 'module.g2.gp.3.palayer.pa.2.weight', 'module.g2.gp.3.palayer.pa.2.bias', 'module.g2.gp.4.conv1.weight', 'module.g2.gp.4.conv1.bias', 'module.g2.gp.4.conv2.weight', 'module.g2.gp.4.conv2.bias', 'module.g2.gp.4.calayer.ca.0.weight', 'module.g2.gp.4.calayer.ca.0.bias', 'module.g2.gp.4.calayer.ca.2.weight', 'module.g2.gp.4.calayer.ca.2.bias', 'module.g2.gp.4.palayer.pa.0.weight', 'module.g2.gp.4.palayer.pa.0.bias', 'module.g2.gp.4.palayer.pa.2.weight', 'module.g2.gp.4.palayer.pa.2.bias', 'module.g2.gp.5.conv1.weight', 'module.g2.gp.5.conv1.bias', 'module.g2.gp.5.conv2.weight', 'module.g2.gp.5.conv2.bias', 'module.g2.gp.5.calayer.ca.0.weight', 'module.g2.gp.5.calayer.ca.0.bias', 'module.g2.gp.5.calayer.ca.2.weight', 'module.g2.gp.5.calayer.ca.2.bias', 'module.g2.gp.5.palayer.pa.0.weight', 'module.g2.gp.5.palayer.pa.0.bias', 'module.g2.gp.5.palayer.pa.2.weight', 'module.g2.gp.5.palayer.pa.2.bias', 'module.g2.gp.6.conv1.weight', 'module.g2.gp.6.conv1.bias', 'module.g2.gp.6.conv2.weight', 'module.g2.gp.6.conv2.bias', 'module.g2.gp.6.calayer.ca.0.weight', 'module.g2.gp.6.calayer.ca.0.bias', 'module.g2.gp.6.calayer.ca.2.weight', 'module.g2.gp.6.calayer.ca.2.bias', 'module.g2.gp.6.palayer.pa.0.weight', 'module.g2.gp.6.palayer.pa.0.bias', 'module.g2.gp.6.palayer.pa.2.weight', 'module.g2.gp.6.palayer.pa.2.bias', 'module.g2.gp.7.conv1.weight', 'module.g2.gp.7.conv1.bias', 'module.g2.gp.7.conv2.weight', 'module.g2.gp.7.conv2.bias', 'module.g2.gp.7.calayer.ca.0.weight', 'module.g2.gp.7.calayer.ca.0.bias', 'module.g2.gp.7.calayer.ca.2.weight', 'module.g2.gp.7.calayer.ca.2.bias', 'module.g2.gp.7.palayer.pa.0.weight', 'module.g2.gp.7.palayer.pa.0.bias', 'module.g2.gp.7.palayer.pa.2.weight', 'module.g2.gp.7.palayer.pa.2.bias', 'module.g2.gp.8.conv1.weight', 'module.g2.gp.8.conv1.bias', 'module.g2.gp.8.conv2.weight', 'module.g2.gp.8.conv2.bias', 'module.g2.gp.8.calayer.ca.0.weight', 'module.g2.gp.8.calayer.ca.0.bias', 'module.g2.gp.8.calayer.ca.2.weight', 'module.g2.gp.8.calayer.ca.2.bias', 'module.g2.gp.8.palayer.pa.0.weight', 'module.g2.gp.8.palayer.pa.0.bias', 'module.g2.gp.8.palayer.pa.2.weight', 'module.g2.gp.8.palayer.pa.2.bias', 'module.g2.gp.9.conv1.weight', 'module.g2.gp.9.conv1.bias', 'module.g2.gp.9.conv2.weight', 'module.g2.gp.9.conv2.bias', 'module.g2.gp.9.calayer.ca.0.weight', 'module.g2.gp.9.calayer.ca.0.bias', 'module.g2.gp.9.calayer.ca.2.weight', 'module.g2.gp.9.calayer.ca.2.bias', 'module.g2.gp.9.palayer.pa.0.weight', 'module.g2.gp.9.palayer.pa.0.bias', 'module.g2.gp.9.palayer.pa.2.weight', 'module.g2.gp.9.palayer.pa.2.bias', 'module.g2.gp.10.conv1.weight', 'module.g2.gp.10.conv1.bias', 'module.g2.gp.10.conv2.weight', 'module.g2.gp.10.conv2.bias', 'module.g2.gp.10.calayer.ca.0.weight', 'module.g2.gp.10.calayer.ca.0.bias', 'module.g2.gp.10.calayer.ca.2.weight', 'module.g2.gp.10.calayer.ca.2.bias', 'module.g2.gp.10.palayer.pa.0.weight', 'module.g2.gp.10.palayer.pa.0.bias', 'module.g2.gp.10.palayer.pa.2.weight', 'module.g2.gp.10.palayer.pa.2.bias', 'module.g2.gp.11.conv1.weight', 'module.g2.gp.11.conv1.bias', 'module.g2.gp.11.conv2.weight', 'module.g2.gp.11.conv2.bias', 'module.g2.gp.11.calayer.ca.0.weight', 'module.g2.gp.11.calayer.ca.0.bias', 'module.g2.gp.11.calayer.ca.2.weight', 'module.g2.gp.11.calayer.ca.2.bias', 'module.g2.gp.11.palayer.pa.0.weight', 'module.g2.gp.11.palayer.pa.0.bias', 'module.g2.gp.11.palayer.pa.2.weight', 'module.g2.gp.11.palayer.pa.2.bias', 'module.g2.gp.12.conv1.weight', 'module.g2.gp.12.conv1.bias', 'module.g2.gp.12.conv2.weight', 'module.g2.gp.12.conv2.bias', 'module.g2.gp.12.calayer.ca.0.weight', 'module.g2.gp.12.calayer.ca.0.bias', 'module.g2.gp.12.calayer.ca.2.weight', 'module.g2.gp.12.calayer.ca.2.bias', 'module.g2.gp.12.palayer.pa.0.weight', 'module.g2.gp.12.palayer.pa.0.bias', 'module.g2.gp.12.palayer.pa.2.weight', 'module.g2.gp.12.palayer.pa.2.bias', 'module.g2.gp.13.conv1.weight', 'module.g2.gp.13.conv1.bias', 'module.g2.gp.13.conv2.weight', 'module.g2.gp.13.conv2.bias', 'module.g2.gp.13.calayer.ca.0.weight', 'module.g2.gp.13.calayer.ca.0.bias', 'module.g2.gp.13.calayer.ca.2.weight', 'module.g2.gp.13.calayer.ca.2.bias', 'module.g2.gp.13.palayer.pa.0.weight', 'module.g2.gp.13.palayer.pa.0.bias', 'module.g2.gp.13.palayer.pa.2.weight', 'module.g2.gp.13.palayer.pa.2.bias', 'module.g2.gp.14.conv1.weight', 'module.g2.gp.14.conv1.bias', 'module.g2.gp.14.conv2.weight', 'module.g2.gp.14.conv2.bias', 'module.g2.gp.14.calayer.ca.0.weight', 'module.g2.gp.14.calayer.ca.0.bias', 'module.g2.gp.14.calayer.ca.2.weight', 'module.g2.gp.14.calayer.ca.2.bias', 'module.g2.gp.14.palayer.pa.0.weight', 'module.g2.gp.14.palayer.pa.0.bias', 'module.g2.gp.14.palayer.pa.2.weight', 'module.g2.gp.14.palayer.pa.2.bias', 'module.g2.gp.15.conv1.weight', 'module.g2.gp.15.conv1.bias', 'module.g2.gp.15.conv2.weight', 'module.g2.gp.15.conv2.bias', 'module.g2.gp.15.calayer.ca.0.weight', 'module.g2.gp.15.calayer.ca.0.bias', 'module.g2.gp.15.calayer.ca.2.weight', 'module.g2.gp.15.calayer.ca.2.bias', 'module.g2.gp.15.palayer.pa.0.weight', 'module.g2.gp.15.palayer.pa.0.bias', 'module.g2.gp.15.palayer.pa.2.weight', 'module.g2.gp.15.palayer.pa.2.bias', 'module.g2.gp.16.conv1.weight', 'module.g2.gp.16.conv1.bias', 'module.g2.gp.16.conv2.weight', 'module.g2.gp.16.conv2.bias', 'module.g2.gp.16.calayer.ca.0.weight', 'module.g2.gp.16.calayer.ca.0.bias', 'module.g2.gp.16.calayer.ca.2.weight', 'module.g2.gp.16.calayer.ca.2.bias', 'module.g2.gp.16.palayer.pa.0.weight', 'module.g2.gp.16.palayer.pa.0.bias', 'module.g2.gp.16.palayer.pa.2.weight', 'module.g2.gp.16.palayer.pa.2.bias', 'module.g2.gp.17.conv1.weight', 'module.g2.gp.17.conv1.bias', 'module.g2.gp.17.conv2.weight', 'module.g2.gp.17.conv2.bias', 'module.g2.gp.17.calayer.ca.0.weight', 'module.g2.gp.17.calayer.ca.0.bias', 'module.g2.gp.17.calayer.ca.2.weight', 'module.g2.gp.17.calayer.ca.2.bias', 'module.g2.gp.17.palayer.pa.0.weight', 'module.g2.gp.17.palayer.pa.0.bias', 'module.g2.gp.17.palayer.pa.2.weight', 'module.g2.gp.17.palayer.pa.2.bias', 'module.g2.gp.18.conv1.weight', 'module.g2.gp.18.conv1.bias', 'module.g2.gp.18.conv2.weight', 'module.g2.gp.18.conv2.bias', 'module.g2.gp.18.calayer.ca.0.weight', 'module.g2.gp.18.calayer.ca.0.bias', 'module.g2.gp.18.calayer.ca.2.weight', 'module.g2.gp.18.calayer.ca.2.bias', 'module.g2.gp.18.palayer.pa.0.weight', 'module.g2.gp.18.palayer.pa.0.bias', 'module.g2.gp.18.palayer.pa.2.weight', 'module.g2.gp.18.palayer.pa.2.bias', 'module.g2.gp.19.weight', 'module.g2.gp.19.bias', 'module.g3.gp.0.conv1.weight', 'module.g3.gp.0.conv1.bias', 'module.g3.gp.0.conv2.weight', 'module.g3.gp.0.conv2.bias', 'module.g3.gp.0.calayer.ca.0.weight', 'module.g3.gp.0.calayer.ca.0.bias', 'module.g3.gp.0.calayer.ca.2.weight', 'module.g3.gp.0.calayer.ca.2.bias', 'module.g3.gp.0.palayer.pa.0.weight', 'module.g3.gp.0.palayer.pa.0.bias', 'module.g3.gp.0.palayer.pa.2.weight', 'module.g3.gp.0.palayer.pa.2.bias', 'module.g3.gp.1.conv1.weight', 'module.g3.gp.1.conv1.bias', 'module.g3.gp.1.conv2.weight', 'module.g3.gp.1.conv2.bias', 'module.g3.gp.1.calayer.ca.0.weight', 'module.g3.gp.1.calayer.ca.0.bias', 'module.g3.gp.1.calayer.ca.2.weight', 'module.g3.gp.1.calayer.ca.2.bias', 'module.g3.gp.1.palayer.pa.0.weight', 'module.g3.gp.1.palayer.pa.0.bias', 'module.g3.gp.1.palayer.pa.2.weight', 'module.g3.gp.1.palayer.pa.2.bias', 'module.g3.gp.2.conv1.weight', 'module.g3.gp.2.conv1.bias', 'module.g3.gp.2.conv2.weight', 'module.g3.gp.2.conv2.bias', 'module.g3.gp.2.calayer.ca.0.weight', 'module.g3.gp.2.calayer.ca.0.bias', 'module.g3.gp.2.calayer.ca.2.weight', 'module.g3.gp.2.calayer.ca.2.bias', 'module.g3.gp.2.palayer.pa.0.weight', 'module.g3.gp.2.palayer.pa.0.bias', 'module.g3.gp.2.palayer.pa.2.weight', 'module.g3.gp.2.palayer.pa.2.bias', 'module.g3.gp.3.conv1.weight', 'module.g3.gp.3.conv1.bias', 'module.g3.gp.3.conv2.weight', 'module.g3.gp.3.conv2.bias', 'module.g3.gp.3.calayer.ca.0.weight', 'module.g3.gp.3.calayer.ca.0.bias', 'module.g3.gp.3.calayer.ca.2.weight', 'module.g3.gp.3.calayer.ca.2.bias', 'module.g3.gp.3.palayer.pa.0.weight', 'module.g3.gp.3.palayer.pa.0.bias', 'module.g3.gp.3.palayer.pa.2.weight', 'module.g3.gp.3.palayer.pa.2.bias', 'module.g3.gp.4.conv1.weight', 'module.g3.gp.4.conv1.bias', 'module.g3.gp.4.conv2.weight', 'module.g3.gp.4.conv2.bias', 'module.g3.gp.4.calayer.ca.0.weight', 'module.g3.gp.4.calayer.ca.0.bias', 'module.g3.gp.4.calayer.ca.2.weight', 'module.g3.gp.4.calayer.ca.2.bias', 'module.g3.gp.4.palayer.pa.0.weight', 'module.g3.gp.4.palayer.pa.0.bias', 'module.g3.gp.4.palayer.pa.2.weight', 'module.g3.gp.4.palayer.pa.2.bias', 'module.g3.gp.5.conv1.weight', 'module.g3.gp.5.conv1.bias', 'module.g3.gp.5.conv2.weight', 'module.g3.gp.5.conv2.bias', 'module.g3.gp.5.calayer.ca.0.weight', 'module.g3.gp.5.calayer.ca.0.bias', 'module.g3.gp.5.calayer.ca.2.weight', 'module.g3.gp.5.calayer.ca.2.bias', 'module.g3.gp.5.palayer.pa.0.weight', 'module.g3.gp.5.palayer.pa.0.bias', 'module.g3.gp.5.palayer.pa.2.weight', 'module.g3.gp.5.palayer.pa.2.bias', 'module.g3.gp.6.conv1.weight', 'module.g3.gp.6.conv1.bias', 'module.g3.gp.6.conv2.weight', 'module.g3.gp.6.conv2.bias', 'module.g3.gp.6.calayer.ca.0.weight', 'module.g3.gp.6.calayer.ca.0.bias', 'module.g3.gp.6.calayer.ca.2.weight', 'module.g3.gp.6.calayer.ca.2.bias', 'module.g3.gp.6.palayer.pa.0.weight', 'module.g3.gp.6.palayer.pa.0.bias', 'module.g3.gp.6.palayer.pa.2.weight', 'module.g3.gp.6.palayer.pa.2.bias', 'module.g3.gp.7.conv1.weight', 'module.g3.gp.7.conv1.bias', 'module.g3.gp.7.conv2.weight', 'module.g3.gp.7.conv2.bias', 'module.g3.gp.7.calayer.ca.0.weight', 'module.g3.gp.7.calayer.ca.0.bias', 'module.g3.gp.7.calayer.ca.2.weight', 'module.g3.gp.7.calayer.ca.2.bias', 'module.g3.gp.7.palayer.pa.0.weight', 'module.g3.gp.7.palayer.pa.0.bias', 'module.g3.gp.7.palayer.pa.2.weight', 'module.g3.gp.7.palayer.pa.2.bias', 'module.g3.gp.8.conv1.weight', 'module.g3.gp.8.conv1.bias', 'module.g3.gp.8.conv2.weight', 'module.g3.gp.8.conv2.bias', 'module.g3.gp.8.calayer.ca.0.weight', 'module.g3.gp.8.calayer.ca.0.bias', 'module.g3.gp.8.calayer.ca.2.weight', 'module.g3.gp.8.calayer.ca.2.bias', 'module.g3.gp.8.palayer.pa.0.weight', 'module.g3.gp.8.palayer.pa.0.bias', 'module.g3.gp.8.palayer.pa.2.weight', 'module.g3.gp.8.palayer.pa.2.bias', 'module.g3.gp.9.conv1.weight', 'module.g3.gp.9.conv1.bias', 'module.g3.gp.9.conv2.weight', 'module.g3.gp.9.conv2.bias', 'module.g3.gp.9.calayer.ca.0.weight', 'module.g3.gp.9.calayer.ca.0.bias', 'module.g3.gp.9.calayer.ca.2.weight', 'module.g3.gp.9.calayer.ca.2.bias', 'module.g3.gp.9.palayer.pa.0.weight', 'module.g3.gp.9.palayer.pa.0.bias', 'module.g3.gp.9.palayer.pa.2.weight', 'module.g3.gp.9.palayer.pa.2.bias', 'module.g3.gp.10.conv1.weight', 'module.g3.gp.10.conv1.bias', 'module.g3.gp.10.conv2.weight', 'module.g3.gp.10.conv2.bias', 'module.g3.gp.10.calayer.ca.0.weight', 'module.g3.gp.10.calayer.ca.0.bias', 'module.g3.gp.10.calayer.ca.2.weight', 'module.g3.gp.10.calayer.ca.2.bias', 'module.g3.gp.10.palayer.pa.0.weight', 'module.g3.gp.10.palayer.pa.0.bias', 'module.g3.gp.10.palayer.pa.2.weight', 'module.g3.gp.10.palayer.pa.2.bias', 'module.g3.gp.11.conv1.weight', 'module.g3.gp.11.conv1.bias', 'module.g3.gp.11.conv2.weight', 'module.g3.gp.11.conv2.bias', 'module.g3.gp.11.calayer.ca.0.weight', 'module.g3.gp.11.calayer.ca.0.bias', 'module.g3.gp.11.calayer.ca.2.weight', 'module.g3.gp.11.calayer.ca.2.bias', 'module.g3.gp.11.palayer.pa.0.weight', 'module.g3.gp.11.palayer.pa.0.bias', 'module.g3.gp.11.palayer.pa.2.weight', 'module.g3.gp.11.palayer.pa.2.bias', 'module.g3.gp.12.conv1.weight', 'module.g3.gp.12.conv1.bias', 'module.g3.gp.12.conv2.weight', 'module.g3.gp.12.conv2.bias', 'module.g3.gp.12.calayer.ca.0.weight', 'module.g3.gp.12.calayer.ca.0.bias', 'module.g3.gp.12.calayer.ca.2.weight', 'module.g3.gp.12.calayer.ca.2.bias', 'module.g3.gp.12.palayer.pa.0.weight', 'module.g3.gp.12.palayer.pa.0.bias', 'module.g3.gp.12.palayer.pa.2.weight', 'module.g3.gp.12.palayer.pa.2.bias', 'module.g3.gp.13.conv1.weight', 'module.g3.gp.13.conv1.bias', 'module.g3.gp.13.conv2.weight', 'module.g3.gp.13.conv2.bias', 'module.g3.gp.13.calayer.ca.0.weight', 'module.g3.gp.13.calayer.ca.0.bias', 'module.g3.gp.13.calayer.ca.2.weight', 'module.g3.gp.13.calayer.ca.2.bias', 'module.g3.gp.13.palayer.pa.0.weight', 'module.g3.gp.13.palayer.pa.0.bias', 'module.g3.gp.13.palayer.pa.2.weight', 'module.g3.gp.13.palayer.pa.2.bias', 'module.g3.gp.14.conv1.weight', 'module.g3.gp.14.conv1.bias', 'module.g3.gp.14.conv2.weight', 'module.g3.gp.14.conv2.bias', 'module.g3.gp.14.calayer.ca.0.weight', 'module.g3.gp.14.calayer.ca.0.bias', 'module.g3.gp.14.calayer.ca.2.weight', 'module.g3.gp.14.calayer.ca.2.bias', 'module.g3.gp.14.palayer.pa.0.weight', 'module.g3.gp.14.palayer.pa.0.bias', 'module.g3.gp.14.palayer.pa.2.weight', 'module.g3.gp.14.palayer.pa.2.bias', 'module.g3.gp.15.conv1.weight', 'module.g3.gp.15.conv1.bias', 'module.g3.gp.15.conv2.weight', 'module.g3.gp.15.conv2.bias', 'module.g3.gp.15.calayer.ca.0.weight', 'module.g3.gp.15.calayer.ca.0.bias', 'module.g3.gp.15.calayer.ca.2.weight', 'module.g3.gp.15.calayer.ca.2.bias', 'module.g3.gp.15.palayer.pa.0.weight', 'module.g3.gp.15.palayer.pa.0.bias', 'module.g3.gp.15.palayer.pa.2.weight', 'module.g3.gp.15.palayer.pa.2.bias', 'module.g3.gp.16.conv1.weight', 'module.g3.gp.16.conv1.bias', 'module.g3.gp.16.conv2.weight', 'module.g3.gp.16.conv2.bias', 'module.g3.gp.16.calayer.ca.0.weight', 'module.g3.gp.16.calayer.ca.0.bias', 'module.g3.gp.16.calayer.ca.2.weight', 'module.g3.gp.16.calayer.ca.2.bias', 'module.g3.gp.16.palayer.pa.0.weight', 'module.g3.gp.16.palayer.pa.0.bias', 'module.g3.gp.16.palayer.pa.2.weight', 'module.g3.gp.16.palayer.pa.2.bias', 'module.g3.gp.17.conv1.weight', 'module.g3.gp.17.conv1.bias', 'module.g3.gp.17.conv2.weight', 'module.g3.gp.17.conv2.bias', 'module.g3.gp.17.calayer.ca.0.weight', 'module.g3.gp.17.calayer.ca.0.bias', 'module.g3.gp.17.calayer.ca.2.weight', 'module.g3.gp.17.calayer.ca.2.bias', 'module.g3.gp.17.palayer.pa.0.weight', 'module.g3.gp.17.palayer.pa.0.bias', 'module.g3.gp.17.palayer.pa.2.weight', 'module.g3.gp.17.palayer.pa.2.bias', 'module.g3.gp.18.conv1.weight', 'module.g3.gp.18.conv1.bias', 'module.g3.gp.18.conv2.weight', 'module.g3.gp.18.conv2.bias', 'module.g3.gp.18.calayer.ca.0.weight', 'module.g3.gp.18.calayer.ca.0.bias', 'module.g3.gp.18.calayer.ca.2.weight', 'module.g3.gp.18.calayer.ca.2.bias', 'module.g3.gp.18.palayer.pa.0.weight', 'module.g3.gp.18.palayer.pa.0.bias', 'module.g3.gp.18.palayer.pa.2.weight', 'module.g3.gp.18.palayer.pa.2.bias', 'module.g3.gp.19.weight', 'module.g3.gp.19.bias', 'module.ca.1.weight', 'module.ca.1.bias', 'module.ca.3.weight', 'module.ca.3.bias', 'module.palayer.pa.0.weight', 'module.palayer.pa.0.bias', 'module.palayer.pa.2.weight', 'module.palayer.pa.2.bias', 'module.pre.0.weight', 'module.pre.0.bias', 'module.post.0.weight', 'module.post.0.bias', 'module.post.1.weight', 'module.post.1.bias'])"
            ]
          },
          "metadata": {
            "tags": []
          },
          "execution_count": 24
        }
      ]
    },
    {
      "cell_type": "code",
      "metadata": {
        "colab": {
          "base_uri": "https://localhost:8080/"
        },
        "id": "Q6W3iIxqdSBX",
        "outputId": "48f74a2e-084a-4381-daf7-6956be8d3d6d"
      },
      "source": [
        "torch_model.state_dict().keys()"
      ],
      "execution_count": 27,
      "outputs": [
        {
          "output_type": "execute_result",
          "data": {
            "text/plain": [
              "odict_keys(['g1.gp.0.conv1.weight', 'g1.gp.0.conv1.bias', 'g1.gp.0.conv2.weight', 'g1.gp.0.conv2.bias', 'g1.gp.0.calayer.ca.0.weight', 'g1.gp.0.calayer.ca.0.bias', 'g1.gp.0.calayer.ca.2.weight', 'g1.gp.0.calayer.ca.2.bias', 'g1.gp.0.palayer.pa.0.weight', 'g1.gp.0.palayer.pa.0.bias', 'g1.gp.0.palayer.pa.2.weight', 'g1.gp.0.palayer.pa.2.bias', 'g1.gp.1.conv1.weight', 'g1.gp.1.conv1.bias', 'g1.gp.1.conv2.weight', 'g1.gp.1.conv2.bias', 'g1.gp.1.calayer.ca.0.weight', 'g1.gp.1.calayer.ca.0.bias', 'g1.gp.1.calayer.ca.2.weight', 'g1.gp.1.calayer.ca.2.bias', 'g1.gp.1.palayer.pa.0.weight', 'g1.gp.1.palayer.pa.0.bias', 'g1.gp.1.palayer.pa.2.weight', 'g1.gp.1.palayer.pa.2.bias', 'g1.gp.2.conv1.weight', 'g1.gp.2.conv1.bias', 'g1.gp.2.conv2.weight', 'g1.gp.2.conv2.bias', 'g1.gp.2.calayer.ca.0.weight', 'g1.gp.2.calayer.ca.0.bias', 'g1.gp.2.calayer.ca.2.weight', 'g1.gp.2.calayer.ca.2.bias', 'g1.gp.2.palayer.pa.0.weight', 'g1.gp.2.palayer.pa.0.bias', 'g1.gp.2.palayer.pa.2.weight', 'g1.gp.2.palayer.pa.2.bias', 'g1.gp.3.conv1.weight', 'g1.gp.3.conv1.bias', 'g1.gp.3.conv2.weight', 'g1.gp.3.conv2.bias', 'g1.gp.3.calayer.ca.0.weight', 'g1.gp.3.calayer.ca.0.bias', 'g1.gp.3.calayer.ca.2.weight', 'g1.gp.3.calayer.ca.2.bias', 'g1.gp.3.palayer.pa.0.weight', 'g1.gp.3.palayer.pa.0.bias', 'g1.gp.3.palayer.pa.2.weight', 'g1.gp.3.palayer.pa.2.bias', 'g1.gp.4.conv1.weight', 'g1.gp.4.conv1.bias', 'g1.gp.4.conv2.weight', 'g1.gp.4.conv2.bias', 'g1.gp.4.calayer.ca.0.weight', 'g1.gp.4.calayer.ca.0.bias', 'g1.gp.4.calayer.ca.2.weight', 'g1.gp.4.calayer.ca.2.bias', 'g1.gp.4.palayer.pa.0.weight', 'g1.gp.4.palayer.pa.0.bias', 'g1.gp.4.palayer.pa.2.weight', 'g1.gp.4.palayer.pa.2.bias', 'g1.gp.5.conv1.weight', 'g1.gp.5.conv1.bias', 'g1.gp.5.conv2.weight', 'g1.gp.5.conv2.bias', 'g1.gp.5.calayer.ca.0.weight', 'g1.gp.5.calayer.ca.0.bias', 'g1.gp.5.calayer.ca.2.weight', 'g1.gp.5.calayer.ca.2.bias', 'g1.gp.5.palayer.pa.0.weight', 'g1.gp.5.palayer.pa.0.bias', 'g1.gp.5.palayer.pa.2.weight', 'g1.gp.5.palayer.pa.2.bias', 'g1.gp.6.conv1.weight', 'g1.gp.6.conv1.bias', 'g1.gp.6.conv2.weight', 'g1.gp.6.conv2.bias', 'g1.gp.6.calayer.ca.0.weight', 'g1.gp.6.calayer.ca.0.bias', 'g1.gp.6.calayer.ca.2.weight', 'g1.gp.6.calayer.ca.2.bias', 'g1.gp.6.palayer.pa.0.weight', 'g1.gp.6.palayer.pa.0.bias', 'g1.gp.6.palayer.pa.2.weight', 'g1.gp.6.palayer.pa.2.bias', 'g1.gp.7.conv1.weight', 'g1.gp.7.conv1.bias', 'g1.gp.7.conv2.weight', 'g1.gp.7.conv2.bias', 'g1.gp.7.calayer.ca.0.weight', 'g1.gp.7.calayer.ca.0.bias', 'g1.gp.7.calayer.ca.2.weight', 'g1.gp.7.calayer.ca.2.bias', 'g1.gp.7.palayer.pa.0.weight', 'g1.gp.7.palayer.pa.0.bias', 'g1.gp.7.palayer.pa.2.weight', 'g1.gp.7.palayer.pa.2.bias', 'g1.gp.8.conv1.weight', 'g1.gp.8.conv1.bias', 'g1.gp.8.conv2.weight', 'g1.gp.8.conv2.bias', 'g1.gp.8.calayer.ca.0.weight', 'g1.gp.8.calayer.ca.0.bias', 'g1.gp.8.calayer.ca.2.weight', 'g1.gp.8.calayer.ca.2.bias', 'g1.gp.8.palayer.pa.0.weight', 'g1.gp.8.palayer.pa.0.bias', 'g1.gp.8.palayer.pa.2.weight', 'g1.gp.8.palayer.pa.2.bias', 'g1.gp.9.conv1.weight', 'g1.gp.9.conv1.bias', 'g1.gp.9.conv2.weight', 'g1.gp.9.conv2.bias', 'g1.gp.9.calayer.ca.0.weight', 'g1.gp.9.calayer.ca.0.bias', 'g1.gp.9.calayer.ca.2.weight', 'g1.gp.9.calayer.ca.2.bias', 'g1.gp.9.palayer.pa.0.weight', 'g1.gp.9.palayer.pa.0.bias', 'g1.gp.9.palayer.pa.2.weight', 'g1.gp.9.palayer.pa.2.bias', 'g1.gp.10.conv1.weight', 'g1.gp.10.conv1.bias', 'g1.gp.10.conv2.weight', 'g1.gp.10.conv2.bias', 'g1.gp.10.calayer.ca.0.weight', 'g1.gp.10.calayer.ca.0.bias', 'g1.gp.10.calayer.ca.2.weight', 'g1.gp.10.calayer.ca.2.bias', 'g1.gp.10.palayer.pa.0.weight', 'g1.gp.10.palayer.pa.0.bias', 'g1.gp.10.palayer.pa.2.weight', 'g1.gp.10.palayer.pa.2.bias', 'g1.gp.11.conv1.weight', 'g1.gp.11.conv1.bias', 'g1.gp.11.conv2.weight', 'g1.gp.11.conv2.bias', 'g1.gp.11.calayer.ca.0.weight', 'g1.gp.11.calayer.ca.0.bias', 'g1.gp.11.calayer.ca.2.weight', 'g1.gp.11.calayer.ca.2.bias', 'g1.gp.11.palayer.pa.0.weight', 'g1.gp.11.palayer.pa.0.bias', 'g1.gp.11.palayer.pa.2.weight', 'g1.gp.11.palayer.pa.2.bias', 'g1.gp.12.conv1.weight', 'g1.gp.12.conv1.bias', 'g1.gp.12.conv2.weight', 'g1.gp.12.conv2.bias', 'g1.gp.12.calayer.ca.0.weight', 'g1.gp.12.calayer.ca.0.bias', 'g1.gp.12.calayer.ca.2.weight', 'g1.gp.12.calayer.ca.2.bias', 'g1.gp.12.palayer.pa.0.weight', 'g1.gp.12.palayer.pa.0.bias', 'g1.gp.12.palayer.pa.2.weight', 'g1.gp.12.palayer.pa.2.bias', 'g1.gp.13.conv1.weight', 'g1.gp.13.conv1.bias', 'g1.gp.13.conv2.weight', 'g1.gp.13.conv2.bias', 'g1.gp.13.calayer.ca.0.weight', 'g1.gp.13.calayer.ca.0.bias', 'g1.gp.13.calayer.ca.2.weight', 'g1.gp.13.calayer.ca.2.bias', 'g1.gp.13.palayer.pa.0.weight', 'g1.gp.13.palayer.pa.0.bias', 'g1.gp.13.palayer.pa.2.weight', 'g1.gp.13.palayer.pa.2.bias', 'g1.gp.14.conv1.weight', 'g1.gp.14.conv1.bias', 'g1.gp.14.conv2.weight', 'g1.gp.14.conv2.bias', 'g1.gp.14.calayer.ca.0.weight', 'g1.gp.14.calayer.ca.0.bias', 'g1.gp.14.calayer.ca.2.weight', 'g1.gp.14.calayer.ca.2.bias', 'g1.gp.14.palayer.pa.0.weight', 'g1.gp.14.palayer.pa.0.bias', 'g1.gp.14.palayer.pa.2.weight', 'g1.gp.14.palayer.pa.2.bias', 'g1.gp.15.conv1.weight', 'g1.gp.15.conv1.bias', 'g1.gp.15.conv2.weight', 'g1.gp.15.conv2.bias', 'g1.gp.15.calayer.ca.0.weight', 'g1.gp.15.calayer.ca.0.bias', 'g1.gp.15.calayer.ca.2.weight', 'g1.gp.15.calayer.ca.2.bias', 'g1.gp.15.palayer.pa.0.weight', 'g1.gp.15.palayer.pa.0.bias', 'g1.gp.15.palayer.pa.2.weight', 'g1.gp.15.palayer.pa.2.bias', 'g1.gp.16.conv1.weight', 'g1.gp.16.conv1.bias', 'g1.gp.16.conv2.weight', 'g1.gp.16.conv2.bias', 'g1.gp.16.calayer.ca.0.weight', 'g1.gp.16.calayer.ca.0.bias', 'g1.gp.16.calayer.ca.2.weight', 'g1.gp.16.calayer.ca.2.bias', 'g1.gp.16.palayer.pa.0.weight', 'g1.gp.16.palayer.pa.0.bias', 'g1.gp.16.palayer.pa.2.weight', 'g1.gp.16.palayer.pa.2.bias', 'g1.gp.17.conv1.weight', 'g1.gp.17.conv1.bias', 'g1.gp.17.conv2.weight', 'g1.gp.17.conv2.bias', 'g1.gp.17.calayer.ca.0.weight', 'g1.gp.17.calayer.ca.0.bias', 'g1.gp.17.calayer.ca.2.weight', 'g1.gp.17.calayer.ca.2.bias', 'g1.gp.17.palayer.pa.0.weight', 'g1.gp.17.palayer.pa.0.bias', 'g1.gp.17.palayer.pa.2.weight', 'g1.gp.17.palayer.pa.2.bias', 'g1.gp.18.conv1.weight', 'g1.gp.18.conv1.bias', 'g1.gp.18.conv2.weight', 'g1.gp.18.conv2.bias', 'g1.gp.18.calayer.ca.0.weight', 'g1.gp.18.calayer.ca.0.bias', 'g1.gp.18.calayer.ca.2.weight', 'g1.gp.18.calayer.ca.2.bias', 'g1.gp.18.palayer.pa.0.weight', 'g1.gp.18.palayer.pa.0.bias', 'g1.gp.18.palayer.pa.2.weight', 'g1.gp.18.palayer.pa.2.bias', 'g1.gp.19.weight', 'g1.gp.19.bias', 'g2.gp.0.conv1.weight', 'g2.gp.0.conv1.bias', 'g2.gp.0.conv2.weight', 'g2.gp.0.conv2.bias', 'g2.gp.0.calayer.ca.0.weight', 'g2.gp.0.calayer.ca.0.bias', 'g2.gp.0.calayer.ca.2.weight', 'g2.gp.0.calayer.ca.2.bias', 'g2.gp.0.palayer.pa.0.weight', 'g2.gp.0.palayer.pa.0.bias', 'g2.gp.0.palayer.pa.2.weight', 'g2.gp.0.palayer.pa.2.bias', 'g2.gp.1.conv1.weight', 'g2.gp.1.conv1.bias', 'g2.gp.1.conv2.weight', 'g2.gp.1.conv2.bias', 'g2.gp.1.calayer.ca.0.weight', 'g2.gp.1.calayer.ca.0.bias', 'g2.gp.1.calayer.ca.2.weight', 'g2.gp.1.calayer.ca.2.bias', 'g2.gp.1.palayer.pa.0.weight', 'g2.gp.1.palayer.pa.0.bias', 'g2.gp.1.palayer.pa.2.weight', 'g2.gp.1.palayer.pa.2.bias', 'g2.gp.2.conv1.weight', 'g2.gp.2.conv1.bias', 'g2.gp.2.conv2.weight', 'g2.gp.2.conv2.bias', 'g2.gp.2.calayer.ca.0.weight', 'g2.gp.2.calayer.ca.0.bias', 'g2.gp.2.calayer.ca.2.weight', 'g2.gp.2.calayer.ca.2.bias', 'g2.gp.2.palayer.pa.0.weight', 'g2.gp.2.palayer.pa.0.bias', 'g2.gp.2.palayer.pa.2.weight', 'g2.gp.2.palayer.pa.2.bias', 'g2.gp.3.conv1.weight', 'g2.gp.3.conv1.bias', 'g2.gp.3.conv2.weight', 'g2.gp.3.conv2.bias', 'g2.gp.3.calayer.ca.0.weight', 'g2.gp.3.calayer.ca.0.bias', 'g2.gp.3.calayer.ca.2.weight', 'g2.gp.3.calayer.ca.2.bias', 'g2.gp.3.palayer.pa.0.weight', 'g2.gp.3.palayer.pa.0.bias', 'g2.gp.3.palayer.pa.2.weight', 'g2.gp.3.palayer.pa.2.bias', 'g2.gp.4.conv1.weight', 'g2.gp.4.conv1.bias', 'g2.gp.4.conv2.weight', 'g2.gp.4.conv2.bias', 'g2.gp.4.calayer.ca.0.weight', 'g2.gp.4.calayer.ca.0.bias', 'g2.gp.4.calayer.ca.2.weight', 'g2.gp.4.calayer.ca.2.bias', 'g2.gp.4.palayer.pa.0.weight', 'g2.gp.4.palayer.pa.0.bias', 'g2.gp.4.palayer.pa.2.weight', 'g2.gp.4.palayer.pa.2.bias', 'g2.gp.5.conv1.weight', 'g2.gp.5.conv1.bias', 'g2.gp.5.conv2.weight', 'g2.gp.5.conv2.bias', 'g2.gp.5.calayer.ca.0.weight', 'g2.gp.5.calayer.ca.0.bias', 'g2.gp.5.calayer.ca.2.weight', 'g2.gp.5.calayer.ca.2.bias', 'g2.gp.5.palayer.pa.0.weight', 'g2.gp.5.palayer.pa.0.bias', 'g2.gp.5.palayer.pa.2.weight', 'g2.gp.5.palayer.pa.2.bias', 'g2.gp.6.conv1.weight', 'g2.gp.6.conv1.bias', 'g2.gp.6.conv2.weight', 'g2.gp.6.conv2.bias', 'g2.gp.6.calayer.ca.0.weight', 'g2.gp.6.calayer.ca.0.bias', 'g2.gp.6.calayer.ca.2.weight', 'g2.gp.6.calayer.ca.2.bias', 'g2.gp.6.palayer.pa.0.weight', 'g2.gp.6.palayer.pa.0.bias', 'g2.gp.6.palayer.pa.2.weight', 'g2.gp.6.palayer.pa.2.bias', 'g2.gp.7.conv1.weight', 'g2.gp.7.conv1.bias', 'g2.gp.7.conv2.weight', 'g2.gp.7.conv2.bias', 'g2.gp.7.calayer.ca.0.weight', 'g2.gp.7.calayer.ca.0.bias', 'g2.gp.7.calayer.ca.2.weight', 'g2.gp.7.calayer.ca.2.bias', 'g2.gp.7.palayer.pa.0.weight', 'g2.gp.7.palayer.pa.0.bias', 'g2.gp.7.palayer.pa.2.weight', 'g2.gp.7.palayer.pa.2.bias', 'g2.gp.8.conv1.weight', 'g2.gp.8.conv1.bias', 'g2.gp.8.conv2.weight', 'g2.gp.8.conv2.bias', 'g2.gp.8.calayer.ca.0.weight', 'g2.gp.8.calayer.ca.0.bias', 'g2.gp.8.calayer.ca.2.weight', 'g2.gp.8.calayer.ca.2.bias', 'g2.gp.8.palayer.pa.0.weight', 'g2.gp.8.palayer.pa.0.bias', 'g2.gp.8.palayer.pa.2.weight', 'g2.gp.8.palayer.pa.2.bias', 'g2.gp.9.conv1.weight', 'g2.gp.9.conv1.bias', 'g2.gp.9.conv2.weight', 'g2.gp.9.conv2.bias', 'g2.gp.9.calayer.ca.0.weight', 'g2.gp.9.calayer.ca.0.bias', 'g2.gp.9.calayer.ca.2.weight', 'g2.gp.9.calayer.ca.2.bias', 'g2.gp.9.palayer.pa.0.weight', 'g2.gp.9.palayer.pa.0.bias', 'g2.gp.9.palayer.pa.2.weight', 'g2.gp.9.palayer.pa.2.bias', 'g2.gp.10.conv1.weight', 'g2.gp.10.conv1.bias', 'g2.gp.10.conv2.weight', 'g2.gp.10.conv2.bias', 'g2.gp.10.calayer.ca.0.weight', 'g2.gp.10.calayer.ca.0.bias', 'g2.gp.10.calayer.ca.2.weight', 'g2.gp.10.calayer.ca.2.bias', 'g2.gp.10.palayer.pa.0.weight', 'g2.gp.10.palayer.pa.0.bias', 'g2.gp.10.palayer.pa.2.weight', 'g2.gp.10.palayer.pa.2.bias', 'g2.gp.11.conv1.weight', 'g2.gp.11.conv1.bias', 'g2.gp.11.conv2.weight', 'g2.gp.11.conv2.bias', 'g2.gp.11.calayer.ca.0.weight', 'g2.gp.11.calayer.ca.0.bias', 'g2.gp.11.calayer.ca.2.weight', 'g2.gp.11.calayer.ca.2.bias', 'g2.gp.11.palayer.pa.0.weight', 'g2.gp.11.palayer.pa.0.bias', 'g2.gp.11.palayer.pa.2.weight', 'g2.gp.11.palayer.pa.2.bias', 'g2.gp.12.conv1.weight', 'g2.gp.12.conv1.bias', 'g2.gp.12.conv2.weight', 'g2.gp.12.conv2.bias', 'g2.gp.12.calayer.ca.0.weight', 'g2.gp.12.calayer.ca.0.bias', 'g2.gp.12.calayer.ca.2.weight', 'g2.gp.12.calayer.ca.2.bias', 'g2.gp.12.palayer.pa.0.weight', 'g2.gp.12.palayer.pa.0.bias', 'g2.gp.12.palayer.pa.2.weight', 'g2.gp.12.palayer.pa.2.bias', 'g2.gp.13.conv1.weight', 'g2.gp.13.conv1.bias', 'g2.gp.13.conv2.weight', 'g2.gp.13.conv2.bias', 'g2.gp.13.calayer.ca.0.weight', 'g2.gp.13.calayer.ca.0.bias', 'g2.gp.13.calayer.ca.2.weight', 'g2.gp.13.calayer.ca.2.bias', 'g2.gp.13.palayer.pa.0.weight', 'g2.gp.13.palayer.pa.0.bias', 'g2.gp.13.palayer.pa.2.weight', 'g2.gp.13.palayer.pa.2.bias', 'g2.gp.14.conv1.weight', 'g2.gp.14.conv1.bias', 'g2.gp.14.conv2.weight', 'g2.gp.14.conv2.bias', 'g2.gp.14.calayer.ca.0.weight', 'g2.gp.14.calayer.ca.0.bias', 'g2.gp.14.calayer.ca.2.weight', 'g2.gp.14.calayer.ca.2.bias', 'g2.gp.14.palayer.pa.0.weight', 'g2.gp.14.palayer.pa.0.bias', 'g2.gp.14.palayer.pa.2.weight', 'g2.gp.14.palayer.pa.2.bias', 'g2.gp.15.conv1.weight', 'g2.gp.15.conv1.bias', 'g2.gp.15.conv2.weight', 'g2.gp.15.conv2.bias', 'g2.gp.15.calayer.ca.0.weight', 'g2.gp.15.calayer.ca.0.bias', 'g2.gp.15.calayer.ca.2.weight', 'g2.gp.15.calayer.ca.2.bias', 'g2.gp.15.palayer.pa.0.weight', 'g2.gp.15.palayer.pa.0.bias', 'g2.gp.15.palayer.pa.2.weight', 'g2.gp.15.palayer.pa.2.bias', 'g2.gp.16.conv1.weight', 'g2.gp.16.conv1.bias', 'g2.gp.16.conv2.weight', 'g2.gp.16.conv2.bias', 'g2.gp.16.calayer.ca.0.weight', 'g2.gp.16.calayer.ca.0.bias', 'g2.gp.16.calayer.ca.2.weight', 'g2.gp.16.calayer.ca.2.bias', 'g2.gp.16.palayer.pa.0.weight', 'g2.gp.16.palayer.pa.0.bias', 'g2.gp.16.palayer.pa.2.weight', 'g2.gp.16.palayer.pa.2.bias', 'g2.gp.17.conv1.weight', 'g2.gp.17.conv1.bias', 'g2.gp.17.conv2.weight', 'g2.gp.17.conv2.bias', 'g2.gp.17.calayer.ca.0.weight', 'g2.gp.17.calayer.ca.0.bias', 'g2.gp.17.calayer.ca.2.weight', 'g2.gp.17.calayer.ca.2.bias', 'g2.gp.17.palayer.pa.0.weight', 'g2.gp.17.palayer.pa.0.bias', 'g2.gp.17.palayer.pa.2.weight', 'g2.gp.17.palayer.pa.2.bias', 'g2.gp.18.conv1.weight', 'g2.gp.18.conv1.bias', 'g2.gp.18.conv2.weight', 'g2.gp.18.conv2.bias', 'g2.gp.18.calayer.ca.0.weight', 'g2.gp.18.calayer.ca.0.bias', 'g2.gp.18.calayer.ca.2.weight', 'g2.gp.18.calayer.ca.2.bias', 'g2.gp.18.palayer.pa.0.weight', 'g2.gp.18.palayer.pa.0.bias', 'g2.gp.18.palayer.pa.2.weight', 'g2.gp.18.palayer.pa.2.bias', 'g2.gp.19.weight', 'g2.gp.19.bias', 'g3.gp.0.conv1.weight', 'g3.gp.0.conv1.bias', 'g3.gp.0.conv2.weight', 'g3.gp.0.conv2.bias', 'g3.gp.0.calayer.ca.0.weight', 'g3.gp.0.calayer.ca.0.bias', 'g3.gp.0.calayer.ca.2.weight', 'g3.gp.0.calayer.ca.2.bias', 'g3.gp.0.palayer.pa.0.weight', 'g3.gp.0.palayer.pa.0.bias', 'g3.gp.0.palayer.pa.2.weight', 'g3.gp.0.palayer.pa.2.bias', 'g3.gp.1.conv1.weight', 'g3.gp.1.conv1.bias', 'g3.gp.1.conv2.weight', 'g3.gp.1.conv2.bias', 'g3.gp.1.calayer.ca.0.weight', 'g3.gp.1.calayer.ca.0.bias', 'g3.gp.1.calayer.ca.2.weight', 'g3.gp.1.calayer.ca.2.bias', 'g3.gp.1.palayer.pa.0.weight', 'g3.gp.1.palayer.pa.0.bias', 'g3.gp.1.palayer.pa.2.weight', 'g3.gp.1.palayer.pa.2.bias', 'g3.gp.2.conv1.weight', 'g3.gp.2.conv1.bias', 'g3.gp.2.conv2.weight', 'g3.gp.2.conv2.bias', 'g3.gp.2.calayer.ca.0.weight', 'g3.gp.2.calayer.ca.0.bias', 'g3.gp.2.calayer.ca.2.weight', 'g3.gp.2.calayer.ca.2.bias', 'g3.gp.2.palayer.pa.0.weight', 'g3.gp.2.palayer.pa.0.bias', 'g3.gp.2.palayer.pa.2.weight', 'g3.gp.2.palayer.pa.2.bias', 'g3.gp.3.conv1.weight', 'g3.gp.3.conv1.bias', 'g3.gp.3.conv2.weight', 'g3.gp.3.conv2.bias', 'g3.gp.3.calayer.ca.0.weight', 'g3.gp.3.calayer.ca.0.bias', 'g3.gp.3.calayer.ca.2.weight', 'g3.gp.3.calayer.ca.2.bias', 'g3.gp.3.palayer.pa.0.weight', 'g3.gp.3.palayer.pa.0.bias', 'g3.gp.3.palayer.pa.2.weight', 'g3.gp.3.palayer.pa.2.bias', 'g3.gp.4.conv1.weight', 'g3.gp.4.conv1.bias', 'g3.gp.4.conv2.weight', 'g3.gp.4.conv2.bias', 'g3.gp.4.calayer.ca.0.weight', 'g3.gp.4.calayer.ca.0.bias', 'g3.gp.4.calayer.ca.2.weight', 'g3.gp.4.calayer.ca.2.bias', 'g3.gp.4.palayer.pa.0.weight', 'g3.gp.4.palayer.pa.0.bias', 'g3.gp.4.palayer.pa.2.weight', 'g3.gp.4.palayer.pa.2.bias', 'g3.gp.5.conv1.weight', 'g3.gp.5.conv1.bias', 'g3.gp.5.conv2.weight', 'g3.gp.5.conv2.bias', 'g3.gp.5.calayer.ca.0.weight', 'g3.gp.5.calayer.ca.0.bias', 'g3.gp.5.calayer.ca.2.weight', 'g3.gp.5.calayer.ca.2.bias', 'g3.gp.5.palayer.pa.0.weight', 'g3.gp.5.palayer.pa.0.bias', 'g3.gp.5.palayer.pa.2.weight', 'g3.gp.5.palayer.pa.2.bias', 'g3.gp.6.conv1.weight', 'g3.gp.6.conv1.bias', 'g3.gp.6.conv2.weight', 'g3.gp.6.conv2.bias', 'g3.gp.6.calayer.ca.0.weight', 'g3.gp.6.calayer.ca.0.bias', 'g3.gp.6.calayer.ca.2.weight', 'g3.gp.6.calayer.ca.2.bias', 'g3.gp.6.palayer.pa.0.weight', 'g3.gp.6.palayer.pa.0.bias', 'g3.gp.6.palayer.pa.2.weight', 'g3.gp.6.palayer.pa.2.bias', 'g3.gp.7.conv1.weight', 'g3.gp.7.conv1.bias', 'g3.gp.7.conv2.weight', 'g3.gp.7.conv2.bias', 'g3.gp.7.calayer.ca.0.weight', 'g3.gp.7.calayer.ca.0.bias', 'g3.gp.7.calayer.ca.2.weight', 'g3.gp.7.calayer.ca.2.bias', 'g3.gp.7.palayer.pa.0.weight', 'g3.gp.7.palayer.pa.0.bias', 'g3.gp.7.palayer.pa.2.weight', 'g3.gp.7.palayer.pa.2.bias', 'g3.gp.8.conv1.weight', 'g3.gp.8.conv1.bias', 'g3.gp.8.conv2.weight', 'g3.gp.8.conv2.bias', 'g3.gp.8.calayer.ca.0.weight', 'g3.gp.8.calayer.ca.0.bias', 'g3.gp.8.calayer.ca.2.weight', 'g3.gp.8.calayer.ca.2.bias', 'g3.gp.8.palayer.pa.0.weight', 'g3.gp.8.palayer.pa.0.bias', 'g3.gp.8.palayer.pa.2.weight', 'g3.gp.8.palayer.pa.2.bias', 'g3.gp.9.conv1.weight', 'g3.gp.9.conv1.bias', 'g3.gp.9.conv2.weight', 'g3.gp.9.conv2.bias', 'g3.gp.9.calayer.ca.0.weight', 'g3.gp.9.calayer.ca.0.bias', 'g3.gp.9.calayer.ca.2.weight', 'g3.gp.9.calayer.ca.2.bias', 'g3.gp.9.palayer.pa.0.weight', 'g3.gp.9.palayer.pa.0.bias', 'g3.gp.9.palayer.pa.2.weight', 'g3.gp.9.palayer.pa.2.bias', 'g3.gp.10.conv1.weight', 'g3.gp.10.conv1.bias', 'g3.gp.10.conv2.weight', 'g3.gp.10.conv2.bias', 'g3.gp.10.calayer.ca.0.weight', 'g3.gp.10.calayer.ca.0.bias', 'g3.gp.10.calayer.ca.2.weight', 'g3.gp.10.calayer.ca.2.bias', 'g3.gp.10.palayer.pa.0.weight', 'g3.gp.10.palayer.pa.0.bias', 'g3.gp.10.palayer.pa.2.weight', 'g3.gp.10.palayer.pa.2.bias', 'g3.gp.11.conv1.weight', 'g3.gp.11.conv1.bias', 'g3.gp.11.conv2.weight', 'g3.gp.11.conv2.bias', 'g3.gp.11.calayer.ca.0.weight', 'g3.gp.11.calayer.ca.0.bias', 'g3.gp.11.calayer.ca.2.weight', 'g3.gp.11.calayer.ca.2.bias', 'g3.gp.11.palayer.pa.0.weight', 'g3.gp.11.palayer.pa.0.bias', 'g3.gp.11.palayer.pa.2.weight', 'g3.gp.11.palayer.pa.2.bias', 'g3.gp.12.conv1.weight', 'g3.gp.12.conv1.bias', 'g3.gp.12.conv2.weight', 'g3.gp.12.conv2.bias', 'g3.gp.12.calayer.ca.0.weight', 'g3.gp.12.calayer.ca.0.bias', 'g3.gp.12.calayer.ca.2.weight', 'g3.gp.12.calayer.ca.2.bias', 'g3.gp.12.palayer.pa.0.weight', 'g3.gp.12.palayer.pa.0.bias', 'g3.gp.12.palayer.pa.2.weight', 'g3.gp.12.palayer.pa.2.bias', 'g3.gp.13.conv1.weight', 'g3.gp.13.conv1.bias', 'g3.gp.13.conv2.weight', 'g3.gp.13.conv2.bias', 'g3.gp.13.calayer.ca.0.weight', 'g3.gp.13.calayer.ca.0.bias', 'g3.gp.13.calayer.ca.2.weight', 'g3.gp.13.calayer.ca.2.bias', 'g3.gp.13.palayer.pa.0.weight', 'g3.gp.13.palayer.pa.0.bias', 'g3.gp.13.palayer.pa.2.weight', 'g3.gp.13.palayer.pa.2.bias', 'g3.gp.14.conv1.weight', 'g3.gp.14.conv1.bias', 'g3.gp.14.conv2.weight', 'g3.gp.14.conv2.bias', 'g3.gp.14.calayer.ca.0.weight', 'g3.gp.14.calayer.ca.0.bias', 'g3.gp.14.calayer.ca.2.weight', 'g3.gp.14.calayer.ca.2.bias', 'g3.gp.14.palayer.pa.0.weight', 'g3.gp.14.palayer.pa.0.bias', 'g3.gp.14.palayer.pa.2.weight', 'g3.gp.14.palayer.pa.2.bias', 'g3.gp.15.conv1.weight', 'g3.gp.15.conv1.bias', 'g3.gp.15.conv2.weight', 'g3.gp.15.conv2.bias', 'g3.gp.15.calayer.ca.0.weight', 'g3.gp.15.calayer.ca.0.bias', 'g3.gp.15.calayer.ca.2.weight', 'g3.gp.15.calayer.ca.2.bias', 'g3.gp.15.palayer.pa.0.weight', 'g3.gp.15.palayer.pa.0.bias', 'g3.gp.15.palayer.pa.2.weight', 'g3.gp.15.palayer.pa.2.bias', 'g3.gp.16.conv1.weight', 'g3.gp.16.conv1.bias', 'g3.gp.16.conv2.weight', 'g3.gp.16.conv2.bias', 'g3.gp.16.calayer.ca.0.weight', 'g3.gp.16.calayer.ca.0.bias', 'g3.gp.16.calayer.ca.2.weight', 'g3.gp.16.calayer.ca.2.bias', 'g3.gp.16.palayer.pa.0.weight', 'g3.gp.16.palayer.pa.0.bias', 'g3.gp.16.palayer.pa.2.weight', 'g3.gp.16.palayer.pa.2.bias', 'g3.gp.17.conv1.weight', 'g3.gp.17.conv1.bias', 'g3.gp.17.conv2.weight', 'g3.gp.17.conv2.bias', 'g3.gp.17.calayer.ca.0.weight', 'g3.gp.17.calayer.ca.0.bias', 'g3.gp.17.calayer.ca.2.weight', 'g3.gp.17.calayer.ca.2.bias', 'g3.gp.17.palayer.pa.0.weight', 'g3.gp.17.palayer.pa.0.bias', 'g3.gp.17.palayer.pa.2.weight', 'g3.gp.17.palayer.pa.2.bias', 'g3.gp.18.conv1.weight', 'g3.gp.18.conv1.bias', 'g3.gp.18.conv2.weight', 'g3.gp.18.conv2.bias', 'g3.gp.18.calayer.ca.0.weight', 'g3.gp.18.calayer.ca.0.bias', 'g3.gp.18.calayer.ca.2.weight', 'g3.gp.18.calayer.ca.2.bias', 'g3.gp.18.palayer.pa.0.weight', 'g3.gp.18.palayer.pa.0.bias', 'g3.gp.18.palayer.pa.2.weight', 'g3.gp.18.palayer.pa.2.bias', 'g3.gp.19.weight', 'g3.gp.19.bias', 'ca.1.weight', 'ca.1.bias', 'ca.3.weight', 'ca.3.bias', 'palayer.pa.0.weight', 'palayer.pa.0.bias', 'palayer.pa.2.weight', 'palayer.pa.2.bias', 'pre.0.weight', 'pre.0.bias', 'post.0.weight', 'post.0.bias', 'post.1.weight', 'post.1.bias'])"
            ]
          },
          "metadata": {
            "tags": []
          },
          "execution_count": 27
        }
      ]
    },
    {
      "cell_type": "code",
      "metadata": {
        "id": "WNCOkpAJgMPn"
      },
      "source": [
        "ckp=torch.load('/content/drive/MyDrive/ots_train_ffa_3_19.pk',map_location=torch.device('cpu'))"
      ],
      "execution_count": 28,
      "outputs": []
    },
    {
      "cell_type": "code",
      "metadata": {
        "id": "UO05j51jg0P9"
      },
      "source": [
        "torch_model.load_state_dict(ckp['model'])"
      ],
      "execution_count": null,
      "outputs": []
    },
    {
      "cell_type": "code",
      "metadata": {
        "id": "VeaNOo5rg6Ys"
      },
      "source": [
        "weights={}"
      ],
      "execution_count": 30,
      "outputs": []
    },
    {
      "cell_type": "code",
      "metadata": {
        "id": "h7RfYv_XhS_A"
      },
      "source": [
        "for k,v in pretrain['model'].items():\n",
        "  weights[k[7:]]=v"
      ],
      "execution_count": 39,
      "outputs": []
    },
    {
      "cell_type": "code",
      "metadata": {
        "id": "DgDhvnL9iL4K"
      },
      "source": [
        "haze=pil.open('/content/drive/MyDrive/test_set/ground_truth/0_kitti_gt.png')"
      ],
      "execution_count": 48,
      "outputs": []
    },
    {
      "cell_type": "code",
      "metadata": {
        "id": "rRAzMmrejd0P"
      },
      "source": [
        "haze1= tfs.Compose([\n",
        "        tfs.ToTensor(),\n",
        "        tfs.Normalize(mean=[0.64, 0.6, 0.58],std=[0.14,0.15, 0.152])\n",
        "    ])(haze)[None,::]"
      ],
      "execution_count": 51,
      "outputs": []
    },
    {
      "cell_type": "code",
      "metadata": {
        "colab": {
          "base_uri": "https://localhost:8080/"
        },
        "id": "PLRe-qMLjhq5",
        "outputId": "19cf4f9c-54be-421d-f1a3-5844a9c13f83"
      },
      "source": [
        "haze1.shape"
      ],
      "execution_count": 52,
      "outputs": [
        {
          "output_type": "execute_result",
          "data": {
            "text/plain": [
              "torch.Size([1, 3, 352, 1216])"
            ]
          },
          "metadata": {
            "tags": []
          },
          "execution_count": 52
        }
      ]
    },
    {
      "cell_type": "code",
      "metadata": {
        "id": "KQoXc6CLjnn1"
      },
      "source": [
        "pred=torch_model(haze1)"
      ],
      "execution_count": null,
      "outputs": []
    },
    {
      "cell_type": "code",
      "metadata": {
        "id": "wTCUNszAjwE2"
      },
      "source": [
        "pred"
      ],
      "execution_count": null,
      "outputs": []
    }
  ]
}